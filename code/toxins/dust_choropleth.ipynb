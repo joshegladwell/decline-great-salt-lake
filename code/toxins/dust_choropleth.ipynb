{
 "cells": [
  {
   "cell_type": "code",
   "execution_count": 6,
   "metadata": {},
   "outputs": [],
   "source": [
    "# Import libraries\n",
    "import pandas as pd\n",
    "import plotly.graph_objects as go\n",
    "import plotly.express as px"
   ]
  },
  {
   "cell_type": "code",
   "execution_count": 36,
   "metadata": {},
   "outputs": [
    {
     "data": {
      "text/html": [
       "<div>\n",
       "<style scoped>\n",
       "    .dataframe tbody tr th:only-of-type {\n",
       "        vertical-align: middle;\n",
       "    }\n",
       "\n",
       "    .dataframe tbody tr th {\n",
       "        vertical-align: top;\n",
       "    }\n",
       "\n",
       "    .dataframe thead th {\n",
       "        text-align: right;\n",
       "    }\n",
       "</style>\n",
       "<table border=\"1\" class=\"dataframe\">\n",
       "  <thead>\n",
       "    <tr style=\"text-align: right;\">\n",
       "      <th></th>\n",
       "      <th>Site_Name</th>\n",
       "      <th>Site_ID</th>\n",
       "      <th>Latitude</th>\n",
       "      <th>Longitude</th>\n",
       "      <th>Sample_ID</th>\n",
       "      <th>Sample_Type</th>\n",
       "      <th>Sample_Height</th>\n",
       "      <th>Start_Date</th>\n",
       "      <th>End_Date</th>\n",
       "      <th>Physical_Properties_ID</th>\n",
       "      <th>...</th>\n",
       "      <th>Th_SD</th>\n",
       "      <th>U</th>\n",
       "      <th>U_SD</th>\n",
       "      <th>Sc</th>\n",
       "      <th>Sc_screen</th>\n",
       "      <th>Isotope_ID</th>\n",
       "      <th>87Sr_86Sr</th>\n",
       "      <th>87Sr_86Sr_error</th>\n",
       "      <th>Sample_Comments</th>\n",
       "      <th>elev_feet</th>\n",
       "    </tr>\n",
       "  </thead>\n",
       "  <tbody>\n",
       "    <tr>\n",
       "      <th>0</th>\n",
       "      <td>UDAQ Saltair</td>\n",
       "      <td>JonesSLV_2020_SA</td>\n",
       "      <td>40.8061</td>\n",
       "      <td>-112.050</td>\n",
       "      <td>Round1_SA</td>\n",
       "      <td>dust</td>\n",
       "      <td>250.0</td>\n",
       "      <td>7/26/2018</td>\n",
       "      <td>4/22/2019</td>\n",
       "      <td>Round1_SA_lt63</td>\n",
       "      <td>...</td>\n",
       "      <td>0.011360</td>\n",
       "      <td>0.537000</td>\n",
       "      <td>0.026850</td>\n",
       "      <td>NaN</td>\n",
       "      <td>NaN</td>\n",
       "      <td>ss1793-13</td>\n",
       "      <td>0.71026</td>\n",
       "      <td>0.00002</td>\n",
       "      <td>NaN</td>\n",
       "      <td>4224.026632</td>\n",
       "    </tr>\n",
       "    <tr>\n",
       "      <th>2</th>\n",
       "      <td>UDAQ Saltair</td>\n",
       "      <td>JonesSLV_2020_SA</td>\n",
       "      <td>40.8061</td>\n",
       "      <td>-112.050</td>\n",
       "      <td>Round1_SA</td>\n",
       "      <td>dust</td>\n",
       "      <td>250.0</td>\n",
       "      <td>7/26/2018</td>\n",
       "      <td>4/22/2019</td>\n",
       "      <td>Round1_SA_lt63</td>\n",
       "      <td>...</td>\n",
       "      <td>NaN</td>\n",
       "      <td>0.624298</td>\n",
       "      <td>NaN</td>\n",
       "      <td>0.2</td>\n",
       "      <td>bdl</td>\n",
       "      <td>ss1793-13</td>\n",
       "      <td>0.71026</td>\n",
       "      <td>0.00002</td>\n",
       "      <td>NaN</td>\n",
       "      <td>4224.026632</td>\n",
       "    </tr>\n",
       "    <tr>\n",
       "      <th>3</th>\n",
       "      <td>Sugarhouse Park</td>\n",
       "      <td>JonesSLV_2020_SHP</td>\n",
       "      <td>40.7210</td>\n",
       "      <td>-111.851</td>\n",
       "      <td>Round1_SHP</td>\n",
       "      <td>dust</td>\n",
       "      <td>150.0</td>\n",
       "      <td>11/20/2018</td>\n",
       "      <td>4/22/2019</td>\n",
       "      <td>Round1_SHP_lt63</td>\n",
       "      <td>...</td>\n",
       "      <td>0.016155</td>\n",
       "      <td>0.423000</td>\n",
       "      <td>0.017343</td>\n",
       "      <td>NaN</td>\n",
       "      <td>NaN</td>\n",
       "      <td>ss1793-14</td>\n",
       "      <td>0.71024</td>\n",
       "      <td>0.00001</td>\n",
       "      <td>NaN</td>\n",
       "      <td>4435.332833</td>\n",
       "    </tr>\n",
       "    <tr>\n",
       "      <th>5</th>\n",
       "      <td>City and County Building, Washington Square</td>\n",
       "      <td>JonesSLV_2020_WS</td>\n",
       "      <td>40.7594</td>\n",
       "      <td>-111.887</td>\n",
       "      <td>Round1_WS</td>\n",
       "      <td>dust</td>\n",
       "      <td>3300.0</td>\n",
       "      <td>10/29/2018</td>\n",
       "      <td>4/22/2019</td>\n",
       "      <td>Round1_WS_lt63</td>\n",
       "      <td>...</td>\n",
       "      <td>0.026901</td>\n",
       "      <td>0.491000</td>\n",
       "      <td>0.021113</td>\n",
       "      <td>NaN</td>\n",
       "      <td>NaN</td>\n",
       "      <td>ss1793-15</td>\n",
       "      <td>0.71005</td>\n",
       "      <td>0.00002</td>\n",
       "      <td>NaN</td>\n",
       "      <td>4263.945789</td>\n",
       "    </tr>\n",
       "    <tr>\n",
       "      <th>7</th>\n",
       "      <td>UDAQ Air Monitoring Center</td>\n",
       "      <td>JonesSLV_2020_AMC</td>\n",
       "      <td>40.7118</td>\n",
       "      <td>-111.961</td>\n",
       "      <td>Round1_AMC</td>\n",
       "      <td>dust</td>\n",
       "      <td>305.0</td>\n",
       "      <td>7/26/2018</td>\n",
       "      <td>4/24/2019</td>\n",
       "      <td>Round1_AMC_lt63</td>\n",
       "      <td>...</td>\n",
       "      <td>0.032844</td>\n",
       "      <td>0.483000</td>\n",
       "      <td>0.031395</td>\n",
       "      <td>NaN</td>\n",
       "      <td>NaN</td>\n",
       "      <td>ss1794-1</td>\n",
       "      <td>0.71055</td>\n",
       "      <td>0.00002</td>\n",
       "      <td>NaN</td>\n",
       "      <td>4243.830218</td>\n",
       "    </tr>\n",
       "  </tbody>\n",
       "</table>\n",
       "<p>5 rows × 117 columns</p>\n",
       "</div>"
      ],
      "text/plain": [
       "                                     Site_Name            Site_ID  Latitude  \\\n",
       "0                                 UDAQ Saltair   JonesSLV_2020_SA   40.8061   \n",
       "2                                 UDAQ Saltair   JonesSLV_2020_SA   40.8061   \n",
       "3                              Sugarhouse Park  JonesSLV_2020_SHP   40.7210   \n",
       "5  City and County Building, Washington Square   JonesSLV_2020_WS   40.7594   \n",
       "7                   UDAQ Air Monitoring Center  JonesSLV_2020_AMC   40.7118   \n",
       "\n",
       "   Longitude   Sample_ID Sample_Type  Sample_Height  Start_Date   End_Date  \\\n",
       "0   -112.050   Round1_SA        dust          250.0   7/26/2018  4/22/2019   \n",
       "2   -112.050   Round1_SA        dust          250.0   7/26/2018  4/22/2019   \n",
       "3   -111.851  Round1_SHP        dust          150.0  11/20/2018  4/22/2019   \n",
       "5   -111.887   Round1_WS        dust         3300.0  10/29/2018  4/22/2019   \n",
       "7   -111.961  Round1_AMC        dust          305.0   7/26/2018  4/24/2019   \n",
       "\n",
       "  Physical_Properties_ID  ...     Th_SD         U      U_SD   Sc Sc_screen  \\\n",
       "0         Round1_SA_lt63  ...  0.011360  0.537000  0.026850  NaN       NaN   \n",
       "2         Round1_SA_lt63  ...       NaN  0.624298       NaN  0.2       bdl   \n",
       "3        Round1_SHP_lt63  ...  0.016155  0.423000  0.017343  NaN       NaN   \n",
       "5         Round1_WS_lt63  ...  0.026901  0.491000  0.021113  NaN       NaN   \n",
       "7        Round1_AMC_lt63  ...  0.032844  0.483000  0.031395  NaN       NaN   \n",
       "\n",
       "   Isotope_ID  87Sr_86Sr  87Sr_86Sr_error  Sample_Comments    elev_feet  \n",
       "0   ss1793-13    0.71026          0.00002              NaN  4224.026632  \n",
       "2   ss1793-13    0.71026          0.00002              NaN  4224.026632  \n",
       "3   ss1793-14    0.71024          0.00001              NaN  4435.332833  \n",
       "5   ss1793-15    0.71005          0.00002              NaN  4263.945789  \n",
       "7    ss1794-1    0.71055          0.00002              NaN  4243.830218  \n",
       "\n",
       "[5 rows x 117 columns]"
      ]
     },
     "execution_count": 36,
     "metadata": {},
     "output_type": "execute_result"
    }
   ],
   "source": [
    "# Prepare data\n",
    "df = pd.read_csv(\"../../data/modified/toxins/dust_data.csv\")\n",
    "\n",
    "df = df[df['As'].notna()]\n",
    "\n",
    "df.head()"
   ]
  },
  {
   "cell_type": "code",
   "execution_count": 53,
   "metadata": {},
   "outputs": [
    {
     "data": {
      "application/vnd.plotly.v1+json": {
       "config": {
        "plotlyServerURL": "https://plot.ly"
       },
       "data": [
        {
         "hovertemplate": "Arsenic (PPM)=%{marker.color}<br>Site_Name=%{text}<br>Latitude=%{lat}<br>Longitude=%{lon}<extra></extra>",
         "lat": [
          40.8061,
          40.8061,
          40.721,
          40.7594,
          40.7118,
          41.0896,
          41.207,
          40.7912,
          41.0393,
          40.903,
          40.903,
          40.7359,
          40.7359,
          40.6057,
          40.6057,
          41.223,
          41.223,
          40.4964,
          40.4964,
          41.2546,
          41.2546,
          40.3783,
          40.3783,
          41.223,
          41.2025,
          41.2025,
          41.2025,
          41.2025,
          41.2025,
          41.2025,
          41.2025,
          41.223,
          41.223,
          41.223,
          41.223,
          41.202,
          41.202,
          41.202,
          41.202,
          41.202,
          41.202,
          41.202,
          40.9293,
          41.0916,
          41.0916,
          41.0869,
          41.0869,
          40.957,
          40.9215,
          41.2025,
          40.9293,
          40.9293,
          40.9293,
          40.9293,
          40.9293,
          40.9293,
          40.9293,
          40.9207,
          40.9207,
          40.9265,
          41.2259,
          41.2498,
          41.2215,
          41.2215,
          41.2215,
          41.2215,
          41.302,
          41.302,
          41.302,
          41.302,
          41.0662,
          40.8167,
          41.2546,
          41.302,
          40.903,
          40.903,
          40.8061,
          40.721,
          40.721,
          40.721,
          41.0393,
          40.7912,
          40.7768,
          40.3783,
          40.6057,
          40.6057,
          40.7359,
          40.7359,
          40.7343,
          40.7343,
          41.223,
          41.0896,
          41.2546,
          40.4964,
          40.4964,
          41.0662,
          41.0662,
          40.7594,
          40.7594
         ],
         "legendgroup": "",
         "lon": [
          -112.05,
          -112.05,
          -111.851,
          -111.887,
          -111.961,
          -112.163,
          -111.975,
          -111.945,
          -112.231,
          -111.884,
          -111.884,
          -111.945,
          -111.945,
          -111.947,
          -111.947,
          -112.853,
          -112.853,
          -112.036,
          -112.036,
          -112.496,
          -112.496,
          -111.891,
          -111.891,
          -112.853,
          -112.892,
          -112.892,
          -112.892,
          -112.892,
          -112.892,
          -112.892,
          -112.892,
          -112.853,
          -112.853,
          -112.853,
          -112.853,
          -112.891,
          -112.891,
          -112.891,
          -112.891,
          -112.891,
          -112.891,
          -112.891,
          -112.159,
          -112.166,
          -112.166,
          -112.16,
          -112.16,
          -111.932,
          -112.193,
          -112.952,
          -112.159,
          -112.159,
          -112.159,
          -112.159,
          -112.159,
          -112.159,
          -112.159,
          -112.133,
          -112.133,
          -112.151,
          -112.855,
          -112.498,
          -112.852,
          -112.852,
          -112.852,
          -112.852,
          -112.517,
          -112.517,
          -112.517,
          -112.517,
          -112.231,
          -112.1,
          -112.496,
          -112.517,
          -111.884,
          -111.884,
          -112.05,
          -111.851,
          -111.851,
          -111.851,
          -112.231,
          -111.945,
          -111.946,
          -111.891,
          -111.947,
          -111.947,
          -111.945,
          -111.945,
          -111.872,
          -111.872,
          -112.853,
          -112.163,
          -112.496,
          -112.036,
          -112.036,
          -112.231,
          -112.231,
          -111.887,
          -111.887
         ],
         "marker": {
          "color": [
           3.344,
           4.12081,
           6.408,
           15.84,
           8.343,
           21.037,
           10.641,
           8.353,
           18.647,
           10.391,
           12.1788,
           15.582,
           16.5146,
           11.637,
           12.8194,
           21.406,
           23.2908,
           7.389,
           8.44724,
           22.755,
           25.3769,
           9.76456,
           12.6137,
           15.704,
           4.627,
           4.866,
           3.88813,
           3.208,
           2.082,
           4.935,
           4.27004,
           11.515,
           17.633,
           15.3937,
           22.783,
           2.498,
           2.474,
           1.765,
           1.272,
           2.885,
           2.56001,
           2.52121,
           16.584,
           25.645,
           22.0907,
           20.472,
           19.7961,
           14.534,
           27.267,
           25.94,
           14.875,
           12.4726,
           17.619,
           22.233,
           19.8044,
           24.085,
           21.6991,
           15.203,
           14.3915,
           25.06,
           21.541,
           23.628,
           20.454,
           23.1575,
           23.4555,
           20.8767,
           21.7049,
           22.9234,
           29.5817,
           20.6897,
           10.3811,
           8.12884,
           12.3627,
           21.1115,
           7.25511,
           5.61935,
           6.51643,
           19.1518,
           14.9004,
           14.7436,
           6.87289,
           7.50019,
           9.59025,
           26.1598,
           21.2103,
           15.762,
           27.498,
           22.1842,
           11.3253,
           8.89567,
           8.58559,
           13.3076,
           9.03175,
           33.7128,
           26.2408,
           16.5405,
           13.9669,
           32.0316,
           24.5313
          ],
          "coloraxis": "coloraxis",
          "size": [
           3.344,
           4.12081,
           6.408,
           15.84,
           8.343,
           21.037,
           10.641,
           8.353,
           18.647,
           10.391,
           12.1788,
           15.582,
           16.5146,
           11.637,
           12.8194,
           21.406,
           23.2908,
           7.389,
           8.44724,
           22.755,
           25.3769,
           9.76456,
           12.6137,
           15.704,
           4.627,
           4.866,
           3.88813,
           3.208,
           2.082,
           4.935,
           4.27004,
           11.515,
           17.633,
           15.3937,
           22.783,
           2.498,
           2.474,
           1.765,
           1.272,
           2.885,
           2.56001,
           2.52121,
           16.584,
           25.645,
           22.0907,
           20.472,
           19.7961,
           14.534,
           27.267,
           25.94,
           14.875,
           12.4726,
           17.619,
           22.233,
           19.8044,
           24.085,
           21.6991,
           15.203,
           14.3915,
           25.06,
           21.541,
           23.628,
           20.454,
           23.1575,
           23.4555,
           20.8767,
           21.7049,
           22.9234,
           29.5817,
           20.6897,
           10.3811,
           8.12884,
           12.3627,
           21.1115,
           7.25511,
           5.61935,
           6.51643,
           19.1518,
           14.9004,
           14.7436,
           6.87289,
           7.50019,
           9.59025,
           26.1598,
           21.2103,
           15.762,
           27.498,
           22.1842,
           11.3253,
           8.89567,
           8.58559,
           13.3076,
           9.03175,
           33.7128,
           26.2408,
           16.5405,
           13.9669,
           32.0316,
           24.5313
          ],
          "sizemode": "area",
          "sizeref": 0.08428200000000001
         },
         "mode": "markers+text",
         "name": "",
         "showlegend": false,
         "subplot": "mapbox",
         "text": [
          "UDAQ Saltair",
          "UDAQ Saltair",
          "Sugarhouse Park",
          "City and County Building, Washington Square",
          "UDAQ Air Monitoring Center",
          "Northeast Farmington causeway",
          "UDAQ Ogden #2",
          "Rose Park residential area",
          "UDAQ Antelope Island",
          "UDAQ Bountiful Viewmont",
          "UDAQ Bountiful Viewmont",
          "SLC Fire Department Training Division",
          "SLC Fire Department Training Division",
          "Gene Fullmer Recreation Center",
          "Gene Fullmer Recreation Center",
          "Lakeside (Hynek)",
          "Lakeside (Hynek)",
          "UDAQ Herriman",
          "UDAQ Herriman",
          "Saline (Hynek)",
          "Saline (Hynek)",
          "Lehi residential area",
          "Lehi residential area",
          "Lakeside dune (Hynek)",
          "Bonneville bench AV horizon 2",
          "Bonneville bench AV horizon 2",
          "Bonneville bench AV horizon 2",
          "Bonneville bench AV horizon 2",
          "Bonneville bench AV horizon 2",
          "Bonneville bench AV horizon 2",
          "Bonneville bench AV horizon 2",
          "Lakeside dune (Hynek)",
          "Lakeside dune (Hynek)",
          "Lakeside dune (Hynek)",
          "Lakeside dune (Hynek)",
          "Bonneville bench AV horizon 1",
          "Bonneville bench AV horizon 1",
          "Bonneville bench AV horizon 1",
          "Bonneville bench AV horizon 1",
          "Bonneville bench AV horizon 1",
          "Bonneville bench AV horizon 1",
          "Bonneville bench AV horizon 1",
          "Ranch vegetated island",
          "Farmington north",
          "Farmington north",
          "Farmington south",
          "Farmington south",
          "Farmington Waterfowl Management Area",
          "Ranch depression flakes",
          "North playa near UT Test and Training Range",
          "Ranch vegetated island",
          "Ranch vegetated island",
          "Ranch vegetated island",
          "Ranch vegetated island",
          "Ranch vegetated island",
          "Ranch vegetated island",
          "Ranch vegetated island",
          "Ranch playa 1",
          "Ranch playa 1",
          "Ranch playa 2",
          "Lakeside playa (Hynek)",
          "Lakeside playa (Hynek)",
          "Great Salt Lake playa",
          "Great Salt Lake playa",
          "Great Salt Lake playa",
          "Great Salt Lake playa",
          "Saline beach (Hynek)",
          "Saline beach (Hynek)",
          "Saline beach (Hynek)",
          "Saline beach (Hynek)",
          "Southeast Farmington causeway (Hynek)",
          "Goggin Drain (Hynek)",
          "Saline (Hynek)",
          "Saline beach (Hynek)",
          "UDAQ Bountiful Viewmont",
          "UDAQ Bountiful Viewmont",
          "UDAQ Saltair",
          "Sugarhouse Park",
          "Sugarhouse Park",
          "Sugarhouse Park",
          "UDAQ Antelope Island",
          "Rose Park residential area",
          "UDAQ Tech Support Center",
          "Lehi residential area",
          "Gene Fullmer Recreation Center",
          "Gene Fullmer Recreation Center",
          "SLC Fire Department Training Division",
          "SLC Fire Department Training Division",
          "UDAQ Hawthorne",
          "UDAQ Hawthorne",
          "Lakeside (Hynek)",
          "Northeast Farmington causeway",
          "Saline (Hynek)",
          "UDAQ Herriman",
          "UDAQ Herriman",
          "Southeast Farmington causeway (Hynek)",
          "Southeast Farmington causeway (Hynek)",
          "City and County Building, Washington Square",
          "City and County Building, Washington Square"
         ],
         "type": "scattermapbox"
        }
       ],
       "layout": {
        "coloraxis": {
         "colorbar": {
          "title": {
           "text": "Arsenic (PPM)"
          }
         },
         "colorscale": [
          [
           0,
           "#98d5ce"
          ],
          [
           1,
           "#265F58"
          ]
         ]
        },
        "font": {
         "family": "Optima"
        },
        "legend": {
         "itemsizing": "constant",
         "tracegroupgap": 0
        },
        "mapbox": {
         "accesstoken": "pk.eyJ1Ijoiam9zaGVnbGFkd2VsbCIsImEiOiJjbGg1ZTFraGUwMnp6M2NvM3docnFzcHZlIn0.vVb6B189dERSanXg3s5Esw",
         "center": {
          "lat": 40.97823232323233,
          "lon": -112.3160202020202
         },
         "domain": {
          "x": [
           0,
           1
          ],
          "y": [
           0,
           1
          ]
         },
         "zoom": 7
        },
        "margin": {
         "t": 60
        },
        "template": {
         "data": {
          "bar": [
           {
            "error_x": {
             "color": "#2a3f5f"
            },
            "error_y": {
             "color": "#2a3f5f"
            },
            "marker": {
             "line": {
              "color": "#E5ECF6",
              "width": 0.5
             },
             "pattern": {
              "fillmode": "overlay",
              "size": 10,
              "solidity": 0.2
             }
            },
            "type": "bar"
           }
          ],
          "barpolar": [
           {
            "marker": {
             "line": {
              "color": "#E5ECF6",
              "width": 0.5
             },
             "pattern": {
              "fillmode": "overlay",
              "size": 10,
              "solidity": 0.2
             }
            },
            "type": "barpolar"
           }
          ],
          "carpet": [
           {
            "aaxis": {
             "endlinecolor": "#2a3f5f",
             "gridcolor": "white",
             "linecolor": "white",
             "minorgridcolor": "white",
             "startlinecolor": "#2a3f5f"
            },
            "baxis": {
             "endlinecolor": "#2a3f5f",
             "gridcolor": "white",
             "linecolor": "white",
             "minorgridcolor": "white",
             "startlinecolor": "#2a3f5f"
            },
            "type": "carpet"
           }
          ],
          "choropleth": [
           {
            "colorbar": {
             "outlinewidth": 0,
             "ticks": ""
            },
            "type": "choropleth"
           }
          ],
          "contour": [
           {
            "colorbar": {
             "outlinewidth": 0,
             "ticks": ""
            },
            "colorscale": [
             [
              0,
              "#0d0887"
             ],
             [
              0.1111111111111111,
              "#46039f"
             ],
             [
              0.2222222222222222,
              "#7201a8"
             ],
             [
              0.3333333333333333,
              "#9c179e"
             ],
             [
              0.4444444444444444,
              "#bd3786"
             ],
             [
              0.5555555555555556,
              "#d8576b"
             ],
             [
              0.6666666666666666,
              "#ed7953"
             ],
             [
              0.7777777777777778,
              "#fb9f3a"
             ],
             [
              0.8888888888888888,
              "#fdca26"
             ],
             [
              1,
              "#f0f921"
             ]
            ],
            "type": "contour"
           }
          ],
          "contourcarpet": [
           {
            "colorbar": {
             "outlinewidth": 0,
             "ticks": ""
            },
            "type": "contourcarpet"
           }
          ],
          "heatmap": [
           {
            "colorbar": {
             "outlinewidth": 0,
             "ticks": ""
            },
            "colorscale": [
             [
              0,
              "#0d0887"
             ],
             [
              0.1111111111111111,
              "#46039f"
             ],
             [
              0.2222222222222222,
              "#7201a8"
             ],
             [
              0.3333333333333333,
              "#9c179e"
             ],
             [
              0.4444444444444444,
              "#bd3786"
             ],
             [
              0.5555555555555556,
              "#d8576b"
             ],
             [
              0.6666666666666666,
              "#ed7953"
             ],
             [
              0.7777777777777778,
              "#fb9f3a"
             ],
             [
              0.8888888888888888,
              "#fdca26"
             ],
             [
              1,
              "#f0f921"
             ]
            ],
            "type": "heatmap"
           }
          ],
          "heatmapgl": [
           {
            "colorbar": {
             "outlinewidth": 0,
             "ticks": ""
            },
            "colorscale": [
             [
              0,
              "#0d0887"
             ],
             [
              0.1111111111111111,
              "#46039f"
             ],
             [
              0.2222222222222222,
              "#7201a8"
             ],
             [
              0.3333333333333333,
              "#9c179e"
             ],
             [
              0.4444444444444444,
              "#bd3786"
             ],
             [
              0.5555555555555556,
              "#d8576b"
             ],
             [
              0.6666666666666666,
              "#ed7953"
             ],
             [
              0.7777777777777778,
              "#fb9f3a"
             ],
             [
              0.8888888888888888,
              "#fdca26"
             ],
             [
              1,
              "#f0f921"
             ]
            ],
            "type": "heatmapgl"
           }
          ],
          "histogram": [
           {
            "marker": {
             "pattern": {
              "fillmode": "overlay",
              "size": 10,
              "solidity": 0.2
             }
            },
            "type": "histogram"
           }
          ],
          "histogram2d": [
           {
            "colorbar": {
             "outlinewidth": 0,
             "ticks": ""
            },
            "colorscale": [
             [
              0,
              "#0d0887"
             ],
             [
              0.1111111111111111,
              "#46039f"
             ],
             [
              0.2222222222222222,
              "#7201a8"
             ],
             [
              0.3333333333333333,
              "#9c179e"
             ],
             [
              0.4444444444444444,
              "#bd3786"
             ],
             [
              0.5555555555555556,
              "#d8576b"
             ],
             [
              0.6666666666666666,
              "#ed7953"
             ],
             [
              0.7777777777777778,
              "#fb9f3a"
             ],
             [
              0.8888888888888888,
              "#fdca26"
             ],
             [
              1,
              "#f0f921"
             ]
            ],
            "type": "histogram2d"
           }
          ],
          "histogram2dcontour": [
           {
            "colorbar": {
             "outlinewidth": 0,
             "ticks": ""
            },
            "colorscale": [
             [
              0,
              "#0d0887"
             ],
             [
              0.1111111111111111,
              "#46039f"
             ],
             [
              0.2222222222222222,
              "#7201a8"
             ],
             [
              0.3333333333333333,
              "#9c179e"
             ],
             [
              0.4444444444444444,
              "#bd3786"
             ],
             [
              0.5555555555555556,
              "#d8576b"
             ],
             [
              0.6666666666666666,
              "#ed7953"
             ],
             [
              0.7777777777777778,
              "#fb9f3a"
             ],
             [
              0.8888888888888888,
              "#fdca26"
             ],
             [
              1,
              "#f0f921"
             ]
            ],
            "type": "histogram2dcontour"
           }
          ],
          "mesh3d": [
           {
            "colorbar": {
             "outlinewidth": 0,
             "ticks": ""
            },
            "type": "mesh3d"
           }
          ],
          "parcoords": [
           {
            "line": {
             "colorbar": {
              "outlinewidth": 0,
              "ticks": ""
             }
            },
            "type": "parcoords"
           }
          ],
          "pie": [
           {
            "automargin": true,
            "type": "pie"
           }
          ],
          "scatter": [
           {
            "fillpattern": {
             "fillmode": "overlay",
             "size": 10,
             "solidity": 0.2
            },
            "type": "scatter"
           }
          ],
          "scatter3d": [
           {
            "line": {
             "colorbar": {
              "outlinewidth": 0,
              "ticks": ""
             }
            },
            "marker": {
             "colorbar": {
              "outlinewidth": 0,
              "ticks": ""
             }
            },
            "type": "scatter3d"
           }
          ],
          "scattercarpet": [
           {
            "marker": {
             "colorbar": {
              "outlinewidth": 0,
              "ticks": ""
             }
            },
            "type": "scattercarpet"
           }
          ],
          "scattergeo": [
           {
            "marker": {
             "colorbar": {
              "outlinewidth": 0,
              "ticks": ""
             }
            },
            "type": "scattergeo"
           }
          ],
          "scattergl": [
           {
            "marker": {
             "colorbar": {
              "outlinewidth": 0,
              "ticks": ""
             }
            },
            "type": "scattergl"
           }
          ],
          "scattermapbox": [
           {
            "marker": {
             "colorbar": {
              "outlinewidth": 0,
              "ticks": ""
             }
            },
            "type": "scattermapbox"
           }
          ],
          "scatterpolar": [
           {
            "marker": {
             "colorbar": {
              "outlinewidth": 0,
              "ticks": ""
             }
            },
            "type": "scatterpolar"
           }
          ],
          "scatterpolargl": [
           {
            "marker": {
             "colorbar": {
              "outlinewidth": 0,
              "ticks": ""
             }
            },
            "type": "scatterpolargl"
           }
          ],
          "scatterternary": [
           {
            "marker": {
             "colorbar": {
              "outlinewidth": 0,
              "ticks": ""
             }
            },
            "type": "scatterternary"
           }
          ],
          "surface": [
           {
            "colorbar": {
             "outlinewidth": 0,
             "ticks": ""
            },
            "colorscale": [
             [
              0,
              "#0d0887"
             ],
             [
              0.1111111111111111,
              "#46039f"
             ],
             [
              0.2222222222222222,
              "#7201a8"
             ],
             [
              0.3333333333333333,
              "#9c179e"
             ],
             [
              0.4444444444444444,
              "#bd3786"
             ],
             [
              0.5555555555555556,
              "#d8576b"
             ],
             [
              0.6666666666666666,
              "#ed7953"
             ],
             [
              0.7777777777777778,
              "#fb9f3a"
             ],
             [
              0.8888888888888888,
              "#fdca26"
             ],
             [
              1,
              "#f0f921"
             ]
            ],
            "type": "surface"
           }
          ],
          "table": [
           {
            "cells": {
             "fill": {
              "color": "#EBF0F8"
             },
             "line": {
              "color": "white"
             }
            },
            "header": {
             "fill": {
              "color": "#C8D4E3"
             },
             "line": {
              "color": "white"
             }
            },
            "type": "table"
           }
          ]
         },
         "layout": {
          "annotationdefaults": {
           "arrowcolor": "#2a3f5f",
           "arrowhead": 0,
           "arrowwidth": 1
          },
          "autotypenumbers": "strict",
          "coloraxis": {
           "colorbar": {
            "outlinewidth": 0,
            "ticks": ""
           }
          },
          "colorscale": {
           "diverging": [
            [
             0,
             "#8e0152"
            ],
            [
             0.1,
             "#c51b7d"
            ],
            [
             0.2,
             "#de77ae"
            ],
            [
             0.3,
             "#f1b6da"
            ],
            [
             0.4,
             "#fde0ef"
            ],
            [
             0.5,
             "#f7f7f7"
            ],
            [
             0.6,
             "#e6f5d0"
            ],
            [
             0.7,
             "#b8e186"
            ],
            [
             0.8,
             "#7fbc41"
            ],
            [
             0.9,
             "#4d9221"
            ],
            [
             1,
             "#276419"
            ]
           ],
           "sequential": [
            [
             0,
             "#0d0887"
            ],
            [
             0.1111111111111111,
             "#46039f"
            ],
            [
             0.2222222222222222,
             "#7201a8"
            ],
            [
             0.3333333333333333,
             "#9c179e"
            ],
            [
             0.4444444444444444,
             "#bd3786"
            ],
            [
             0.5555555555555556,
             "#d8576b"
            ],
            [
             0.6666666666666666,
             "#ed7953"
            ],
            [
             0.7777777777777778,
             "#fb9f3a"
            ],
            [
             0.8888888888888888,
             "#fdca26"
            ],
            [
             1,
             "#f0f921"
            ]
           ],
           "sequentialminus": [
            [
             0,
             "#0d0887"
            ],
            [
             0.1111111111111111,
             "#46039f"
            ],
            [
             0.2222222222222222,
             "#7201a8"
            ],
            [
             0.3333333333333333,
             "#9c179e"
            ],
            [
             0.4444444444444444,
             "#bd3786"
            ],
            [
             0.5555555555555556,
             "#d8576b"
            ],
            [
             0.6666666666666666,
             "#ed7953"
            ],
            [
             0.7777777777777778,
             "#fb9f3a"
            ],
            [
             0.8888888888888888,
             "#fdca26"
            ],
            [
             1,
             "#f0f921"
            ]
           ]
          },
          "colorway": [
           "#636efa",
           "#EF553B",
           "#00cc96",
           "#ab63fa",
           "#FFA15A",
           "#19d3f3",
           "#FF6692",
           "#B6E880",
           "#FF97FF",
           "#FECB52"
          ],
          "font": {
           "color": "#2a3f5f"
          },
          "geo": {
           "bgcolor": "white",
           "lakecolor": "white",
           "landcolor": "#E5ECF6",
           "showlakes": true,
           "showland": true,
           "subunitcolor": "white"
          },
          "hoverlabel": {
           "align": "left"
          },
          "hovermode": "closest",
          "mapbox": {
           "style": "light"
          },
          "paper_bgcolor": "white",
          "plot_bgcolor": "#E5ECF6",
          "polar": {
           "angularaxis": {
            "gridcolor": "white",
            "linecolor": "white",
            "ticks": ""
           },
           "bgcolor": "#E5ECF6",
           "radialaxis": {
            "gridcolor": "white",
            "linecolor": "white",
            "ticks": ""
           }
          },
          "scene": {
           "xaxis": {
            "backgroundcolor": "#E5ECF6",
            "gridcolor": "white",
            "gridwidth": 2,
            "linecolor": "white",
            "showbackground": true,
            "ticks": "",
            "zerolinecolor": "white"
           },
           "yaxis": {
            "backgroundcolor": "#E5ECF6",
            "gridcolor": "white",
            "gridwidth": 2,
            "linecolor": "white",
            "showbackground": true,
            "ticks": "",
            "zerolinecolor": "white"
           },
           "zaxis": {
            "backgroundcolor": "#E5ECF6",
            "gridcolor": "white",
            "gridwidth": 2,
            "linecolor": "white",
            "showbackground": true,
            "ticks": "",
            "zerolinecolor": "white"
           }
          },
          "shapedefaults": {
           "line": {
            "color": "#2a3f5f"
           }
          },
          "ternary": {
           "aaxis": {
            "gridcolor": "white",
            "linecolor": "white",
            "ticks": ""
           },
           "baxis": {
            "gridcolor": "white",
            "linecolor": "white",
            "ticks": ""
           },
           "bgcolor": "#E5ECF6",
           "caxis": {
            "gridcolor": "white",
            "linecolor": "white",
            "ticks": ""
           }
          },
          "title": {
           "x": 0.05
          },
          "xaxis": {
           "automargin": true,
           "gridcolor": "white",
           "linecolor": "white",
           "ticks": "",
           "title": {
            "standoff": 15
           },
           "zerolinecolor": "white",
           "zerolinewidth": 2
          },
          "yaxis": {
           "automargin": true,
           "gridcolor": "white",
           "linecolor": "white",
           "ticks": "",
           "title": {
            "standoff": 15
           },
           "zerolinecolor": "white",
           "zerolinewidth": 2
          }
         }
        },
        "title": {
         "text": "Salt Lake Valley Arsenic Levels from Dust and Sediment Samples"
        }
       }
      }
     },
     "metadata": {},
     "output_type": "display_data"
    }
   ],
   "source": [
    "px.set_mapbox_access_token(open(\".mapbox_token\").read())\n",
    "\n",
    "fig = px.scatter_mapbox(\n",
    "    df, \n",
    "    lat='Latitude', \n",
    "    lon='Longitude', \n",
    "    text='Site_Name',\n",
    "    color='As', \n",
    "    size='As', \n",
    "    zoom=7,\n",
    "    color_continuous_scale=['#98d5ce', '#265F58'],\n",
    "    labels={\n",
    "        'As': 'Arsenic (PPM)'\n",
    "    }\n",
    ")\n",
    "\n",
    "fig.update_layout(\n",
    "    title=\"Salt Lake Valley Arsenic Levels from Dust and Sediment Samples\",\n",
    "    font_family=\"Optima\"\n",
    ")\n",
    "\n",
    "fig.write_html(\"../../website/plots/plotly_dust.html\")\n",
    "fig.show()"
   ]
  }
 ],
 "metadata": {
  "kernelspec": {
   "display_name": "anly503",
   "language": "python",
   "name": "python3"
  },
  "language_info": {
   "codemirror_mode": {
    "name": "ipython",
    "version": 3
   },
   "file_extension": ".py",
   "mimetype": "text/x-python",
   "name": "python",
   "nbconvert_exporter": "python",
   "pygments_lexer": "ipython3",
   "version": "3.10.8"
  },
  "orig_nbformat": 4
 },
 "nbformat": 4,
 "nbformat_minor": 2
}
